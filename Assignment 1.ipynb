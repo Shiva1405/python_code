{
 "cells": [
  {
   "cell_type": "markdown",
   "metadata": {},
   "source": [
    "# Assignment 1- \n",
    "### Question-1:-Help to Mr X to bake the code. Mr X wants to find the occurrences of vowels in a sentence and how many times each vowel repeated in this sentence. Mr X will have power to define this sentence. \n",
    "### Input:- \n",
    "### Input a sentence from user. \n",
    "### Output:- \n",
    "### Vowels in sentence--- \n",
    "### Each vowel repeated as:- \n"
   ]
  },
  {
   "cell_type": "code",
   "execution_count": 2,
   "metadata": {},
   "outputs": [
    {
     "name": "stdout",
     "output_type": "stream",
     "text": [
      "Enter the sentence This is a python program.\n",
      "Vowels in sentence--- ['a', 'i', 'o']\n",
      "Each vowel repeated as:- [2, 2, 2]\n"
     ]
    }
   ],
   "source": [
    "sentence = input(\"Enter the sentence \")\n",
    "#taking Sentence as an input string for storing the input from thr user\n",
    "l=list(sentence)\n",
    "#converted string into list \n",
    "vowels=[\"a\",\"e\",\"i\",\"o\",\"u\"]\n",
    "#taking vowels in a list \n",
    "a,e,i,o,u=0,0,0,0,0\n",
    "n=len(l)\n",
    "#taking the length of list of string\n",
    "\n",
    "for j in range(0,n):\n",
    "    if l[j]=='a':\n",
    "        a=a+1\n",
    "    if l[j]=='e':\n",
    "        e=e+1\n",
    "    if l[j]=='i':\n",
    "        i=i+1 \n",
    "    if l[j]=='o':\n",
    "        o=o+1        \n",
    "    if l[j]=='u':\n",
    "        u=u+1\n",
    "#used for loop for checking each variable in the list with the vowels \n",
    "vowelcount=[]\n",
    "#list for vowel count \n",
    "\n",
    "if a>0:\n",
    "    vowelcount.append(a)\n",
    "else:\n",
    "    vowels.remove(\"a\")\n",
    "if e>0:\n",
    "    vowelcount.append(e)\n",
    "else:\n",
    "    vowels.remove(\"e\")\n",
    "if i>0:\n",
    "    vowelcount.append(i)\n",
    "else:\n",
    "    vowels.remove(\"i\")\n",
    "if o>0:\n",
    "    vowelcount.append(o)\n",
    "else:\n",
    "    vowels.remove(\"o\")\n",
    "if u>0:\n",
    "    vowelcount.append(u)\n",
    "else:\n",
    "    vowels.remove(\"u\")\n",
    "#checked the values of the vowels and used remove function to remove an vowel not present in the list\n",
    "print(\"Vowels in sentence---\",vowels)\n",
    "print(\"Each vowel repeated as:-\",vowelcount)\n",
    "        \n",
    "        \n"
   ]
  },
  {
   "cell_type": "code",
   "execution_count": null,
   "metadata": {},
   "outputs": [],
   "source": []
  }
 ],
 "metadata": {
  "kernelspec": {
   "display_name": "Python 3",
   "language": "python",
   "name": "python3"
  },
  "language_info": {
   "codemirror_mode": {
    "name": "ipython",
    "version": 3
   },
   "file_extension": ".py",
   "mimetype": "text/x-python",
   "name": "python",
   "nbconvert_exporter": "python",
   "pygments_lexer": "ipython3",
   "version": "3.8.5"
  }
 },
 "nbformat": 4,
 "nbformat_minor": 4
}
