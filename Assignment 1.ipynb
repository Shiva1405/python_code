{
 "cells": [
  {
   "cell_type": "markdown",
   "metadata": {},
   "source": [
    "# Assignment 1- \n",
    "### Question-1:-Help to Mr X to bake the code. Mr X wants to find the occurrences of vowels in a sentence and how many times each vowel repeated in this sentence. Mr X will have power to define this sentence. \n",
    "### Input:- \n",
    "### Input a sentence from user. \n",
    "### Output:- \n",
    "### Vowels in sentence--- \n",
    "### Each vowel repeated as:- \n"
   ]
  },
  {
   "cell_type": "code",
   "execution_count": null,
   "metadata": {},
   "outputs": [],
   "source": [
    "l=['a','e','i','o','u']\n",
    "l1=[0,0,0,0,0]\n",
    "l2=[]\n",
    "r=str(input(\"enter the scentence\"))\n",
    "for i in r:\n",
    "  if i in \"aeiou\":\n",
    "    l2.append(i)\n",
    "    l1[l.index(i)]+=1 \n",
    "print(\"vowel in a scentence\"+str(l2))\n",
    "print(\"each vowel repeated as\"+str(l1))\n"
   ]
  },
  {
   "cell_type": "code",
   "execution_count": 1,
   "metadata": {},
   "outputs": [
    {
     "output_type": "stream",
     "name": "stdout",
     "text": [
      "Vowels in sentence--- []\nEach vowel repeated as:- []\n"
     ]
    }
   ],
   "source": [
    "class customer:\n",
    "  def __int__(self,c_id,c_name,c_pass,c_address,c_phone,c_email):\n",
    "    self.c_id=c_id\n",
    "    self.c_name=c_name\n",
    "    self.c_pass=c_name\n",
    "    self.c_address=c_address\n",
    "    self.c_phone=c_phone\n",
    "    self.c_email=c_email\n",
    "  def register(self):\n",
    "  def login(self):\n",
    "  def add_item(self):\n",
    "  def details(self):\n",
    "  def add_to_cart(self):\n",
    "  def cost_cal(self):\n",
    "  def select_pay(self):\n",
    "  def logout(self):\n",
    "  \n",
    "  \n",
    "customers=customer(1,\"Lucky\",\"Silver\",\"mbd\",965555555,\"jay@gmail.com\")\n",
    "class admin:\n",
    "  a_email,a_pass\n",
    "  def login(self):\n",
    "  def manage order(self):\n",
    "  def manage product(self):\n",
    "\n",
    "class cart:\n",
    "  c_id,p_id,p_pict,p_name,p_price,p_quantity,p_subtotal\n",
    "  def UPDATE_CART(self):\n",
    "  def DELETE_CART(self):\n",
    "\n",
    "class order:\n",
    "  o_id,p_id,u_id,subtotal,status,quantity\n",
    "  def find_Details(self):\n",
    "\n",
    "class product:\n",
    "  p_id,p_name,p_description,p_catid,p_price,p_pict,p_suppler\n",
    "  def available_stock(self):\n",
    "  def get_product(self):\n",
    "\n",
    "class payment:\n",
    "  amount,date,payment no\n",
    "  def payment_details(self):\n",
    "  def slip_generation(self):\n",
    "class offline_online:\n",
    "  account,cart no,bank authentication,address,COD,received\n",
    "\n",
    "class order_status:\n",
    "  NEW,HOLD,SHIPPED,DELIVERED,CLOSE \n",
    "\n",
    "class account:\n",
    "  ID,BILLING-ADDRESS,ISCLOSED,OPEN,CLOSE \n",
    "\n"
   ]
  },
  {
   "cell_type": "code",
   "execution_count": 3,
   "metadata": {},
   "outputs": [],
   "source": [
    "k=int(input(\"Message Sender : \\n Hello MIT CELL: \\n Please enter k value to shift transform message:\"))\n",
    "output=\"\"\n",
    "s=input('Now please type your message:')\n",
    "for x in s:\n",
    "  if x in \"!@#$%^&*()-+?_=,<>/\":\n",
    "    output+=x\n",
    "  elif x ==\" \":\n",
    "    output+=\"@\"\n",
    "  elif x ==\".\":\n",
    "    output+=\"#\"\n",
    "  else:\n",
    "    y=ord(x)+k\n",
    "    m=chr(y)\n",
    "    output+=m\n",
    "print(\"You send-\"+output)\n",
    "print(\"Message Receiver :\\n Hello Instructor: \\n You got a message:\"+output)\n",
    "k=int(input(\"to read this message enter the value of k provided by cell\"))\n",
    "output1=\"\"\n",
    "for x in output:\n",
    "  if x in \"!@#$%^&*()-+?_=,<>/\":\n",
    "    output1+=x\n",
    "  elif x ==\"@\":\n",
    "    output1+=\" \"\n",
    "  elif x ==\"#\":\n",
    "    output1+=\".\"\n",
    "  else:\n",
    "    y=ord(x)-k\n",
    "    m=chr(y)\n",
    "    output1+=m\n",
    "print(\"Original Message:\"+output1)\n"
   ]
  }
 ],
 "metadata": {
  "kernelspec": {
   "display_name": "Python 3",
   "language": "python",
   "name": "python3"
  },
  "language_info": {
   "codemirror_mode": {
    "name": "ipython",
    "version": 3
   },
   "file_extension": ".py",
   "mimetype": "text/x-python",
   "name": "python",
   "nbconvert_exporter": "python",
   "pygments_lexer": "ipython3",
   "version": "3.8.5-final"
  }
 },
 "nbformat": 4,
 "nbformat_minor": 4
}