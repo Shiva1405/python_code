{
 "metadata": {
  "language_info": {
   "codemirror_mode": {
    "name": "ipython",
    "version": 3
   },
   "file_extension": ".py",
   "mimetype": "text/x-python",
   "name": "python",
   "nbconvert_exporter": "python",
   "pygments_lexer": "ipython3",
   "version": "3.9.1-final"
  },
  "orig_nbformat": 2,
  "kernelspec": {
   "name": "python3",
   "display_name": "Python 3.9.1 64-bit",
   "metadata": {
    "interpreter": {
     "hash": "34b52c002f848b02fb30b48134a79d71c5e137684d9f0a7e9b68f69926568542"
    }
   }
  }
 },
 "nbformat": 4,
 "nbformat_minor": 2,
 "cells": [
  {
   "source": [
    "# Day 1"
   ],
   "cell_type": "markdown",
   "metadata": {}
  },
  {
   "source": [
    "# Hello World\n"
   ],
   "cell_type": "markdown",
   "metadata": {}
  },
  {
   "cell_type": "code",
   "execution_count": null,
   "metadata": {},
   "outputs": [],
   "source": [
    "print(\"Hello\")"
   ]
  },
  {
   "cell_type": "code",
   "execution_count": 6,
   "metadata": {},
   "outputs": [
    {
     "output_type": "stream",
     "name": "stdout",
     "text": [
      "6 \n 6\n[1, 2, 3, 1, 2, 3]\n"
     ]
    }
   ],
   "source": [
    "a=[1,2,3]\n",
    "b=[1,2,3]\n",
    "print(sum(a),\"\\n\",sum(b))\n",
    "print(a+b)                  #  print the concatenation of the lists "
   ]
  },
  {
   "cell_type": "code",
   "execution_count": 6,
   "metadata": {},
   "outputs": [],
   "source": [
    "a=input(\"msg\")"
   ]
  },
  {
   "source": [
    "# calculator"
   ],
   "cell_type": "markdown",
   "metadata": {}
  },
  {
   "cell_type": "code",
   "execution_count": 40,
   "metadata": {},
   "outputs": [
    {
     "output_type": "stream",
     "name": "stdout",
     "text": [
      "1\n"
     ]
    }
   ],
   "source": [
    "a=int(input(\"enter the value of a\\t\"))\n",
    "b=int(input(\"enter the value of b\\t\"))\n",
    "c=input((\"enter the opertion\\t\"))\n",
    "if c=='*':\n",
    "  print(a*b)\n",
    "if c==\"+\":\n",
    "  print(a+b)\n",
    "if c==\"/\":\n",
    "  print(a/b)\n",
    "if c==\"-\":\n",
    "  print(a-b)  \n",
    "if c==\"%\":\n",
    "  print(a%b)  \n",
    "  "
   ]
  },
  {
   "source": [
    "# print ut+1/2at^2"
   ],
   "cell_type": "markdown",
   "metadata": {}
  },
  {
   "cell_type": "code",
   "execution_count": 39,
   "metadata": {},
   "outputs": [
    {
     "output_type": "stream",
     "name": "stdout",
     "text": [
      "8.0\n"
     ]
    }
   ],
   "source": [
    "import math\n",
    "u=int(input(\"enter the value of u\\t\"))\n",
    "t=int(input(\"enter the value of t\\t\"))\n",
    "a=int(input(\"enter the value of a\\t\"))\n",
    "b=u*t+1/2*a*math.pow(t,2)\n",
    "print(b)"
   ]
  },
  {
   "source": [
    "# DAy 2"
   ],
   "cell_type": "markdown",
   "metadata": {}
  },
  {
   "source": [
    "# Data Types"
   ],
   "cell_type": "markdown",
   "metadata": {}
  },
  {
   "cell_type": "code",
   "execution_count": 2,
   "metadata": {},
   "outputs": [
    {
     "output_type": "stream",
     "name": "stdout",
     "text": [
      "<class 'int'> <class 'float'> <class 'str'> <class 'list'> <class 'tuple'> <class 'set'> <class 'dict'> <class 'frozenset'> <class 'bool'> <class 'frozenset'> <class 'bytes'> <class 'bytearray'> <class 'memoryview'> <class 'range'>\n2188665907504 2188760785008 2188666227440 2188756721856 2188665897024 2188760721440 2188756734784 2188760720992 140736122411112 2188760720992 2188758277072 2188756784560 2188770482496 2188758276928\n"
     ]
    }
   ],
   "source": [
    "a=1                          #integer\n",
    "b=1.2                        #float\n",
    "c='str'                      #string\n",
    "d=[]                         #list\n",
    "e=()                         #tuple\n",
    "f={\"rt\"}                     #set\n",
    "g={c:5}                      #dictionary\n",
    "i=1+2j                       #complex number\n",
    "k=True                       #boolean   \n",
    "i= frozenset((a,b))          #frozen set \n",
    "l=bytes(1)                   #bytes\n",
    "o=bytearray(a)               #bytearray \n",
    "m=memoryview(bytes(9))       #memoryview\n",
    "n=range(1,2)                 #range\n",
    "print(type(a),type(b),type(c),type(d),type(e),type(f),type(g),type(i),type(k),type(i),type(l),type(o),type(m),type(n))\n",
    "print(id(a),id(b),id(c),id(d),id(e),id(f),id(g),id(i),id(k),id(i),id(l),id(o),id(m),id(n))\n"
   ]
  },
  {
   "source": [
    "# binary ,hexadecimal and octa conversion"
   ],
   "cell_type": "markdown",
   "metadata": {}
  },
  {
   "source": [
    "a=1\n",
    "b=2\n",
    "print(hex(a))\n",
    "print(bin(3))"
   ],
   "cell_type": "code",
   "metadata": {},
   "execution_count": null,
   "outputs": []
  },
  {
   "cell_type": "code",
   "execution_count": 5,
   "metadata": {},
   "outputs": [
    {
     "output_type": "stream",
     "name": "stdout",
     "text": [
      "avs\n"
     ]
    }
   ],
   "source": [
    "a=input(\"enter the vale\")\n",
    "print(a)"
   ]
  },
  {
   "cell_type": "code",
   "execution_count": 1,
   "metadata": {},
   "outputs": [
    {
     "output_type": "error",
     "ename": "ValueError",
     "evalue": "invalid literal for int() with base 10: '0b01'",
     "traceback": [
      "\u001b[1;31m---------------------------------------------------------------------------\u001b[0m",
      "\u001b[1;31mValueError\u001b[0m                                Traceback (most recent call last)",
      "\u001b[1;32m<ipython-input-1-be75530a2341>\u001b[0m in \u001b[0;36m<module>\u001b[1;34m\u001b[0m\n\u001b[1;32m----> 1\u001b[1;33m \u001b[0mprint\u001b[0m\u001b[1;33m(\u001b[0m\u001b[0mint\u001b[0m\u001b[1;33m(\u001b[0m\u001b[1;34m'0b01'\u001b[0m\u001b[1;33m)\u001b[0m\u001b[1;33m)\u001b[0m\u001b[1;33m\u001b[0m\u001b[1;33m\u001b[0m\u001b[0m\n\u001b[0m",
      "\u001b[1;31mValueError\u001b[0m: invalid literal for int() with base 10: '0b01'"
     ]
    }
   ],
   "source": [
    "print(int('0b01'))"
   ]
  },
  {
   "source": [
    "#swapping in python \n",
    "a=int(input(\"enter the value of a\"))\n",
    "b=int(input(\"enter the value of b\"))\n",
    "c=int(input(\"enter the value of c\"))\n",
    "a,b,c=c,a,b\n",
    "print(\"value of a after swapping\", a, \"\\n value of b after swapping \", b,\"\\n value of c after swapinng\", c)\n",
    "\n"
   ],
   "cell_type": "code",
   "metadata": {},
   "execution_count": 26,
   "outputs": [
    {
     "output_type": "stream",
     "name": "stdout",
     "text": [
      "value of a after swapping 3 \n value of b after swapping  1 \n value of c after swapinng 2\n"
     ]
    }
   ]
  },
  {
   "cell_type": "code",
   "execution_count": 12,
   "metadata": {},
   "outputs": [
    {
     "output_type": "stream",
     "name": "stdout",
     "text": [
      "<class 'float'> <class 'float'>\n"
     ]
    }
   ],
   "source": [
    "\n",
    "b=2E1\n",
    "a=2e1\n",
    "print(type(a),type(b))"
   ]
  },
  {
   "source": [
    "# type conversion "
   ],
   "cell_type": "markdown",
   "metadata": {}
  },
  {
   "cell_type": "code",
   "execution_count": 25,
   "metadata": {},
   "outputs": [
    {
     "output_type": "stream",
     "name": "stdout",
     "text": [
      "<class 'int'>\n"
     ]
    }
   ],
   "source": [
    "a=100.01\n",
    "print(type(int(a)))"
   ]
  },
  {
   "source": [
    "a=2\n",
    "#inter type\n",
    "b=complex(a)\n",
    "#coversion of integer to complex\n",
    "d=1.2\n",
    "#float type\n",
    "e=complex(d)\n",
    "#coversion of float to complex\n",
    "print(b)\n",
    "print(d)"
   ],
   "cell_type": "code",
   "metadata": {},
   "execution_count": 6,
   "outputs": [
    {
     "output_type": "stream",
     "name": "stdout",
     "text": [
      "(2+0j)\n1.2\n"
     ]
    }
   ]
  },
  {
   "cell_type": "code",
   "execution_count": 20,
   "metadata": {},
   "outputs": [
    {
     "output_type": "error",
     "ename": "AttributeError",
     "evalue": "'complex' object has no attribute 'strip'",
     "traceback": [
      "\u001b[1;31m---------------------------------------------------------------------------\u001b[0m",
      "\u001b[1;31mAttributeError\u001b[0m                            Traceback (most recent call last)",
      "\u001b[1;32m<ipython-input-20-e1da60617747>\u001b[0m in \u001b[0;36m<module>\u001b[1;34m\u001b[0m\n\u001b[0;32m      2\u001b[0m \u001b[0ma\u001b[0m\u001b[1;33m=\u001b[0m\u001b[0mcomplex\u001b[0m\u001b[1;33m(\u001b[0m\u001b[0minput\u001b[0m\u001b[1;33m(\u001b[0m\u001b[1;34m\"Enter the complex no.\"\u001b[0m\u001b[1;33m)\u001b[0m\u001b[1;33m)\u001b[0m\u001b[1;33m\u001b[0m\u001b[1;33m\u001b[0m\u001b[0m\n\u001b[0;32m      3\u001b[0m \u001b[1;31m# takes the input of the complex\u001b[0m\u001b[1;33m\u001b[0m\u001b[1;33m\u001b[0m\u001b[1;33m\u001b[0m\u001b[0m\n\u001b[1;32m----> 4\u001b[1;33m \u001b[0mn\u001b[0m\u001b[1;33m=\u001b[0m\u001b[0ma\u001b[0m\u001b[1;33m.\u001b[0m\u001b[0mstrip\u001b[0m\u001b[1;33m(\u001b[0m\u001b[1;33m)\u001b[0m\u001b[1;33m\u001b[0m\u001b[1;33m\u001b[0m\u001b[0m\n\u001b[0m\u001b[0;32m      5\u001b[0m \u001b[1;33m\u001b[0m\u001b[0m\n\u001b[0;32m      6\u001b[0m \u001b[1;32mfor\u001b[0m \u001b[0mi\u001b[0m \u001b[1;32min\u001b[0m \u001b[0mrange\u001b[0m\u001b[1;33m(\u001b[0m\u001b[1;36m0\u001b[0m\u001b[1;33m,\u001b[0m\u001b[0mn\u001b[0m\u001b[1;33m)\u001b[0m\u001b[1;33m:\u001b[0m\u001b[1;33m\u001b[0m\u001b[1;33m\u001b[0m\u001b[0m\n",
      "\u001b[1;31mAttributeError\u001b[0m: 'complex' object has no attribute 'strip'"
     ]
    }
   ],
   "source": [
    "a=[]\n",
    "a=complex(input(\"Enter the complex no.\"))\n",
    "# takes the input of the complex \n",
    "n=a.strip()\n",
    "\n",
    "for i in range(0,n):\n",
    "    if a[i]=='j':\n",
    "        print(\"the imaginary part is \",a[i-1],a[i])"
   ]
  },
  {
   "cell_type": "code",
   "execution_count": 12,
   "metadata": {},
   "outputs": [
    {
     "output_type": "execute_result",
     "data": {
      "text/plain": [
       "'str'"
      ]
     },
     "metadata": {},
     "execution_count": 12
    }
   ],
   "source": [
    "'str'#drop string"
   ]
  },
  {
   "cell_type": "code",
   "execution_count": 13,
   "metadata": {},
   "outputs": [
    {
     "output_type": "execute_result",
     "data": {
      "text/plain": [
       "'str'"
      ]
     },
     "metadata": {},
     "execution_count": 13
    }
   ],
   "source": [
    "\"str\""
   ]
  },
  {
   "cell_type": "code",
   "execution_count": 16,
   "metadata": {},
   "outputs": [
    {
     "output_type": "stream",
     "name": "stdout",
     "text": [
      "a,b,c \n a,b,c\n"
     ]
    }
   ],
   "source": [
    "a=\"a,b,c\"\n",
    "b='a,b,c'\n",
    "print(a,\"\\n\",b)"
   ]
  },
  {
   "cell_type": "code",
   "execution_count": 19,
   "metadata": {},
   "outputs": [
    {
     "output_type": "execute_result",
     "data": {
      "text/plain": [
       "'str'"
      ]
     },
     "metadata": {},
     "execution_count": 19
    }
   ],
   "source": [
    "\"\"\"str\"\"\"\n",
    "#drop string\n"
   ]
  },
  {
   "source": [
    "# integer,float to string and string to integer,float type conversion"
   ],
   "cell_type": "markdown",
   "metadata": {}
  },
  {
   "cell_type": "code",
   "execution_count": 21,
   "metadata": {},
   "outputs": [
    {
     "output_type": "error",
     "ename": "ValueError",
     "evalue": "invalid literal for int() with base 10: 'str'",
     "traceback": [
      "\u001b[1;31m---------------------------------------------------------------------------\u001b[0m",
      "\u001b[1;31mValueError\u001b[0m                                Traceback (most recent call last)",
      "\u001b[1;32m<ipython-input-21-9a1c802623af>\u001b[0m in \u001b[0;36m<module>\u001b[1;34m\u001b[0m\n\u001b[0;32m      1\u001b[0m \u001b[0mq\u001b[0m\u001b[1;33m=\u001b[0m\u001b[1;34m'str'\u001b[0m\u001b[1;33m\u001b[0m\u001b[1;33m\u001b[0m\u001b[0m\n\u001b[0;32m      2\u001b[0m \u001b[1;31m#sting type\u001b[0m\u001b[1;33m\u001b[0m\u001b[1;33m\u001b[0m\u001b[1;33m\u001b[0m\u001b[0m\n\u001b[1;32m----> 3\u001b[1;33m \u001b[0mf\u001b[0m\u001b[1;33m=\u001b[0m\u001b[0mint\u001b[0m\u001b[1;33m(\u001b[0m\u001b[0mq\u001b[0m\u001b[1;33m)\u001b[0m\u001b[1;33m\u001b[0m\u001b[1;33m\u001b[0m\u001b[0m\n\u001b[0m",
      "\u001b[1;31mValueError\u001b[0m: invalid literal for int() with base 10: 'str'"
     ]
    }
   ],
   "source": [
    "q='str'\n",
    "#sting type\n",
    "f=int(q)\n",
    "#string to int conversion not possible"
   ]
  },
  {
   "cell_type": "code",
   "execution_count": 23,
   "metadata": {},
   "outputs": [],
   "source": [
    "p='1'\n",
    "#integer type string \n",
    "f=int(p)\n",
    "#integer type string to integer can be converted "
   ]
  },
  {
   "cell_type": "code",
   "execution_count": 28,
   "metadata": {},
   "outputs": [],
   "source": [
    "s=\"fbhdbhgbd\"\n",
    "p='1.1010'\n",
    "#float type string\n",
    "d=float(p)\n",
    "#float type string to integer can be converted\n",
    "# a=float(s)\n",
    "# string to float  cannot be converted \n"
   ]
  },
  {
   "cell_type": "code",
   "execution_count": null,
   "metadata": {},
   "outputs": [],
   "source": []
  },
  {
   "source": [
    "# boolean operations"
   ],
   "cell_type": "markdown",
   "metadata": {}
  },
  {
   "cell_type": "code",
   "execution_count": 30,
   "metadata": {},
   "outputs": [
    {
     "output_type": "execute_result",
     "data": {
      "text/plain": [
       "2"
      ]
     },
     "metadata": {},
     "execution_count": 30
    }
   ],
   "source": [
    "True+True \n",
    "#\n"
   ]
  },
  {
   "cell_type": "code",
   "execution_count": 31,
   "metadata": {},
   "outputs": [
    {
     "output_type": "execute_result",
     "data": {
      "text/plain": [
       "0"
      ]
     },
     "metadata": {},
     "execution_count": 31
    }
   ],
   "source": [
    "False+False\n"
   ]
  },
  {
   "cell_type": "code",
   "execution_count": 32,
   "metadata": {},
   "outputs": [
    {
     "output_type": "execute_result",
     "data": {
      "text/plain": [
       "-1"
      ]
     },
     "metadata": {},
     "execution_count": 32
    }
   ],
   "source": [
    "False-True"
   ]
  },
  {
   "cell_type": "code",
   "execution_count": 33,
   "metadata": {},
   "outputs": [
    {
     "output_type": "error",
     "ename": "SyntaxError",
     "evalue": "can't use starred expression here (<ipython-input-33-b252d56222c4>, line 1)",
     "traceback": [
      "\u001b[1;36m  File \u001b[1;32m\"<ipython-input-33-b252d56222c4>\"\u001b[1;36m, line \u001b[1;32m1\u001b[0m\n\u001b[1;33m    *a\u001b[0m\n\u001b[1;37m    ^\u001b[0m\n\u001b[1;31mSyntaxError\u001b[0m\u001b[1;31m:\u001b[0m can't use starred expression here\n"
     ]
    }
   ],
   "source": [
    "*a"
   ]
  },
  {
   "cell_type": "code",
   "execution_count": 41,
   "metadata": {},
   "outputs": [
    {
     "output_type": "stream",
     "name": "stdout",
     "text": [
      "True \n False\n"
     ]
    }
   ],
   "source": [
    "a=10\n",
    "#non zero variable \n",
    "b=0\n",
    "#zero variable\n",
    "print(bool(a),\"\\n\",bool(b))\n",
    "#bool return True for non-zero variable and False for zero variable "
   ]
  },
  {
   "source": [
    "# printing Hello multiple times "
   ],
   "cell_type": "markdown",
   "metadata": {}
  },
  {
   "cell_type": "code",
   "execution_count": 36,
   "metadata": {},
   "outputs": [
    {
     "output_type": "stream",
     "name": "stdout",
     "text": [
      "hello\nhello\nhello\nhello\nhello\nhello\nhello\nhello\nhello\nhello\n\n"
     ]
    }
   ],
   "source": [
    "print(10*\"hello\\n\")\n",
    "#print hello 10 times "
   ]
  },
  {
   "source": [
    "# Control Statements "
   ],
   "cell_type": "markdown",
   "metadata": {}
  },
  {
   "cell_type": "code",
   "execution_count": 43,
   "metadata": {},
   "outputs": [
    {
     "output_type": "stream",
     "name": "stdout",
     "text": [
      "equal\n"
     ]
    }
   ],
   "source": [
    "a=1\n",
    "b=2\n",
    "#intialized \n",
    "if a==b:\n",
    "#checks the value of b/w two variables\n",
    "    print(\"true\")\n",
    "elif a>b:\n",
    "    print(\"false\")\n",
    "else :\n",
    "    print(\"equal\")       "
   ]
  },
  {
   "source": [
    "## checking the no. is even or odd"
   ],
   "cell_type": "markdown",
   "metadata": {}
  },
  {
   "cell_type": "code",
   "execution_count": 44,
   "metadata": {},
   "outputs": [
    {
     "output_type": "stream",
     "name": "stdout",
     "text": [
      "a is odd \n"
     ]
    }
   ],
   "source": [
    "c=int(input(\"Enter the value of no.\"))\n",
    "if a%2==0:\n",
    "    print(\"a is even \")\n",
    "else:\n",
    "    print(\"a is odd \")    "
   ]
  },
  {
   "source": [
    "# to check whether the desired food is in the Menu or not  "
   ],
   "cell_type": "markdown",
   "metadata": {}
  },
  {
   "cell_type": "code",
   "execution_count": 58,
   "metadata": {},
   "outputs": [
    {
     "output_type": "stream",
     "name": "stdout",
     "text": [
      "not available\n"
     ]
    }
   ],
   "source": [
    "mains=['chicken','avaogado',\"breakfast sandwich\"]\n",
    "sides=['muffin','bacon']\n",
    "drinks=['coffee','fresh juice']\n",
    "prepared=['avaogado','coffee','fresh juice','muffin','bacon']\n",
    "ul=[]\n",
    "nl=[]\n",
    "print(\"The menu = \\n\",\"Mains\\n\",mains,\"\\nSides\\n\",sides,\"\\nDrinks\\n\",drinks)\n",
    "c=int(input(\"enter the type of menu \\n1.mains\\n2.sides\\n3.drinks\\n0 to end\\n\"))\n",
    "if c==1:\n",
    "    food=input(\"enter the food you desire\")\n",
    "    if food in mains:\n",
    "        \n",
    "        if food in prepared: \n",
    "            ul.append(food)\n",
    "            print(\"Avaliable prepared food \",ul)\n",
    "        else:\n",
    "            nl.append(food)\n",
    "            print(\"unprepared food\",nl)\n",
    "    else:\n",
    "        print(\"not available\")    \n",
    "elif c==2:\n",
    "    food=input(\"enter the food you desire\")\n",
    "    if food in sides:\n",
    "        if food in prepared:\n",
    "            ul.append(s)\n",
    "            print(\"Avaliable prepared food\",ul)\n",
    "        else:\n",
    "            nl.append(food)\n",
    "            print(\"unprepared food\",nl)\n",
    "\n",
    "    else:\n",
    "        print(\"not available\")    \n",
    "elif c==3:\n",
    "    food=input(\"enter the food you desire\")\n",
    "    if food in mains:\n",
    "        if food in prepared: \n",
    "            ul.append(food)\n",
    "            print(\"Avaliable prepared food \",ul)\n",
    "        else:\n",
    "            nl.append(food)\n",
    "            print(\"unprepared food\",nl)\n",
    "    else:\n",
    "        print(\"not available\")    \n",
    "\n",
    "\n",
    "    \n"
   ]
  },
  {
   "source": [
    "# Day 3"
   ],
   "cell_type": "markdown",
   "metadata": {}
  },
  {
   "source": [
    "## append ,insert , slice operator"
   ],
   "cell_type": "markdown",
   "metadata": {}
  },
  {
   "source": [],
   "cell_type": "markdown",
   "metadata": {}
  },
  {
   "source": [
    "l=[]\n",
    "# creating a list\n",
    "l.append(\"a\")\n",
    "#append Function\n",
    "l.insert(2,\"b\")\n",
    "#insert Function\n",
    "print(l)\n",
    "x=slice(1)\n",
    "#slice funtion\n",
    "print(l[x])\n",
    "print(l[:1])\n",
    "#slice operator"
   ],
   "cell_type": "code",
   "metadata": {},
   "execution_count": 8,
   "outputs": [
    {
     "output_type": "stream",
     "name": "stdout",
     "text": [
      "['a', 'b']\n['a']\n['a']\n"
     ]
    }
   ]
  },
  {
   "source": [
    "## mapping of Lists"
   ],
   "cell_type": "markdown",
   "metadata": {}
  },
  {
   "cell_type": "code",
   "execution_count": 34,
   "metadata": {},
   "outputs": [
    {
     "output_type": "stream",
     "name": "stdout",
     "text": [
      "(('1', 'A'), ('2', 'B'), ('3', 'C'), ('4', 'D'))\n1 A\n2 B\n3 C\n4 D\n['1 A', '2 B', '3 C', '4 D']\n"
     ]
    }
   ],
   "source": [
    "list1=[\"1\",\"2\",\"3\",\"4\"]\n",
    "list2=[\"A\",\"B\",\"C\",\"D\"]\n",
    "l=zip(list1,list2)\n",
    "#zip function for merging two lists \n",
    "print(tuple(l))\n",
    "#print zip using tuple function\n",
    "[print(list1[i],list2[i]) for i in range(len(list1))]\n",
    "# using single print function\n",
    "a=list(map(lambda x  , y  :x+\" \"+y ,list1,list2))\n",
    "#map and lambda function 'does not support int and string concatenation' \n",
    "print(a)"
   ]
  },
  {
   "source": [
    "## take a list ,take an input from the user,  compare both the list  "
   ],
   "cell_type": "markdown",
   "metadata": {}
  },
  {
   "cell_type": "code",
   "execution_count": 41,
   "metadata": {},
   "outputs": [
    {
     "output_type": "stream",
     "name": "stdout",
     "text": [
      "common-- \n uncommon-- ['t', 'h', 'e', ' ']\n"
     ]
    }
   ],
   "source": [
    "l=['1','2','3','4','4','5']\n",
    "#taking an input list \n",
    "c=input(\"enter the list\")\n",
    "#taking a list from the user\n",
    "a=list(c)\n",
    "n=len(a)\n",
    "common=[]\n",
    "#list for common elements \n",
    "uncommon=[]\n",
    "#list for uncommon elements\n",
    "for i in range(0,n):\n",
    "    if a[i] in l:\n",
    "        common.append(a[i])\n",
    "    else:\n",
    "        uncommon.append(a[i])\n",
    "print(\"common--\",\"\\n\",\"uncommon--\",uncommon)            "
   ]
  },
  {
   "cell_type": "code",
   "execution_count": null,
   "metadata": {},
   "outputs": [],
   "source": []
  }
 ]
}