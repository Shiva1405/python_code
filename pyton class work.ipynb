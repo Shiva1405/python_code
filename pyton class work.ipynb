{
 "metadata": {
  "language_info": {
   "codemirror_mode": {
    "name": "ipython",
    "version": 3
   },
   "file_extension": ".py",
   "mimetype": "text/x-python",
   "name": "python",
   "nbconvert_exporter": "python",
   "pygments_lexer": "ipython3",
   "version": "3.9.1-final"
  },
  "orig_nbformat": 2,
  "kernelspec": {
   "name": "python3",
   "display_name": "Python 3.9.1 64-bit",
   "metadata": {
    "interpreter": {
     "hash": "34b52c002f848b02fb30b48134a79d71c5e137684d9f0a7e9b68f69926568542"
    }
   }
  }
 },
 "nbformat": 4,
 "nbformat_minor": 2,
 "cells": [
  {
   "source": [
    "# Day 1"
   ],
   "cell_type": "markdown",
   "metadata": {}
  },
  {
   "source": [
    "# Hello World\n"
   ],
   "cell_type": "markdown",
   "metadata": {}
  },
  {
   "cell_type": "code",
   "execution_count": 3,
   "metadata": {},
   "outputs": [
    {
     "output_type": "stream",
     "name": "stdout",
     "text": [
      "Hello\n"
     ]
    }
   ],
   "source": [
    "print(\"Hello\")"
   ]
  },
  {
   "cell_type": "code",
   "execution_count": 4,
   "metadata": {},
   "outputs": [
    {
     "output_type": "stream",
     "name": "stdout",
     "text": [
      "6 \n 6\n[1, 2, 3, 1, 2, 3]\n"
     ]
    }
   ],
   "source": [
    "a=[1,2,3]\n",
    "b=[1,2,3]\n",
    "print(sum(a),\"\\n\",sum(b))\n",
    "print(a+b)                  #  print the concatenation of the lists "
   ]
  },
  {
   "cell_type": "code",
   "execution_count": 5,
   "metadata": {},
   "outputs": [],
   "source": [
    "a=input(\"msg\")"
   ]
  },
  {
   "source": [
    "# calculator"
   ],
   "cell_type": "markdown",
   "metadata": {}
  },
  {
   "cell_type": "code",
   "execution_count": 6,
   "metadata": {},
   "outputs": [
    {
     "output_type": "error",
     "ename": "IndentationError",
     "evalue": "unexpected indent (<ipython-input-6-41199cebf8c5>, line 7)",
     "traceback": [
      "\u001b[1;36m  File \u001b[1;32m\"<ipython-input-6-41199cebf8c5>\"\u001b[1;36m, line \u001b[1;32m7\u001b[0m\n\u001b[1;33m    print(a*b)\u001b[0m\n\u001b[1;37m    ^\u001b[0m\n\u001b[1;31mIndentationError\u001b[0m\u001b[1;31m:\u001b[0m unexpected indent\n"
     ]
    }
   ],
   "source": [
    "#a=int(input(\"enter the value of a\\t\"))\n",
    "#b=int(input(\"enter the value of b\\t\"))\n",
    "a=10\n",
    "b=20\n",
    "#c=input((\"enter the opertion\\t\"))\n",
    "#if c=='*':\n",
    "  print(a*b)\n",
    "#if c==\"+\":\n",
    "  print(a+b)\n",
    "#if c==\"/\":\n",
    "  print(a/b)\n",
    "#if c==\"-\":\n",
    "  print(a-b)  \n",
    "#if c==\"%\":\n",
    "  print(a%b)  \n",
    "  "
   ]
  },
  {
   "source": [
    "# print ut+1/2at^2"
   ],
   "cell_type": "markdown",
   "metadata": {}
  },
  {
   "cell_type": "code",
   "execution_count": null,
   "metadata": {},
   "outputs": [],
   "source": [
    "import math\n",
    "u=int(input(\"enter the value of u\\t\"))\n",
    "t=int(input(\"enter the value of t\\t\"))\n",
    "a=int(input(\"enter the value of a\\t\"))\n",
    "b=u*t+1/2*a*math.pow(t,2)\n",
    "print(b)"
   ]
  },
  {
   "source": [
    "# DAy 2"
   ],
   "cell_type": "markdown",
   "metadata": {}
  },
  {
   "source": [
    "# Data Types"
   ],
   "cell_type": "markdown",
   "metadata": {}
  },
  {
   "cell_type": "code",
   "execution_count": null,
   "metadata": {},
   "outputs": [],
   "source": [
    "a=1                          #integer\n",
    "b=1.2                        #float\n",
    "c='str'                      #string\n",
    "d=[]                         #list\n",
    "e=()                         #tuple\n",
    "f={\"rt\"}                     #set\n",
    "g={c:5}                      #dictionary\n",
    "i=1+2j                       #complex number\n",
    "k=True                       #boolean   \n",
    "i= frozenset((a,b))          #frozen set \n",
    "l=bytes(1)                   #bytes\n",
    "o=bytearray(a)               #bytearray \n",
    "m=memoryview(bytes(9))       #memoryview\n",
    "n=range(1,2)                 #range\n",
    "print(type(a),type(b),type(c),type(d),type(e),type(f),type(g),type(i),type(k),type(i),type(l),type(o),type(m),type(n))\n",
    "print(id(a),id(b),id(c),id(d),id(e),id(f),id(g),id(i),id(k),id(i),id(l),id(o),id(m),id(n))\n"
   ]
  },
  {
   "source": [
    "# binary ,hexadecimal and octa conversion"
   ],
   "cell_type": "markdown",
   "metadata": {}
  },
  {
   "source": [
    "a=1\n",
    "b=2\n",
    "print(hex(a))\n",
    "print(bin(3))"
   ],
   "cell_type": "code",
   "metadata": {},
   "execution_count": null,
   "outputs": []
  },
  {
   "cell_type": "code",
   "execution_count": null,
   "metadata": {},
   "outputs": [],
   "source": [
    "a=input(\"enter the vale\")\n",
    "print(a)"
   ]
  },
  {
   "cell_type": "code",
   "execution_count": null,
   "metadata": {},
   "outputs": [],
   "source": [
    "print(int('0b01'))"
   ]
  },
  {
   "source": [
    "#swapping in python \n",
    "a=int(input(\"enter the value of a\"))\n",
    "b=int(input(\"enter the value of b\"))\n",
    "c=int(input(\"enter the value of c\"))\n",
    "a,b,c=c,a,b\n",
    "print(\"value of a after swapping\", a, \"\\n value of b after swapping \", b,\"\\n value of c after swapinng\", c)\n",
    "\n"
   ],
   "cell_type": "code",
   "metadata": {},
   "execution_count": null,
   "outputs": []
  },
  {
   "cell_type": "code",
   "execution_count": null,
   "metadata": {},
   "outputs": [],
   "source": [
    "\n",
    "b=2E1\n",
    "a=2e1\n",
    "print(type(a),type(b))"
   ]
  },
  {
   "source": [
    "# type conversion "
   ],
   "cell_type": "markdown",
   "metadata": {}
  },
  {
   "cell_type": "code",
   "execution_count": null,
   "metadata": {},
   "outputs": [],
   "source": [
    "a=100.01\n",
    "print(type(int(a)))"
   ]
  },
  {
   "source": [
    "a=2\n",
    "#inter type\n",
    "b=complex(a)\n",
    "#coversion of integer to complex\n",
    "d=1.2\n",
    "#float type\n",
    "e=complex(d)\n",
    "#coversion of float to complex\n",
    "print(b)\n",
    "print(d)"
   ],
   "cell_type": "code",
   "metadata": {},
   "execution_count": null,
   "outputs": []
  },
  {
   "cell_type": "code",
   "execution_count": null,
   "metadata": {},
   "outputs": [],
   "source": [
    "a=[]\n",
    "a=complex(input(\"Enter the complex no.\"))\n",
    "# takes the input of the complex \n",
    "n=a.strip()\n",
    "\n",
    "for i in range(0,n):\n",
    "    if a[i]=='j':\n",
    "        print(\"the imaginary part is \",a[i-1],a[i])"
   ]
  },
  {
   "cell_type": "code",
   "execution_count": null,
   "metadata": {},
   "outputs": [],
   "source": [
    "'str'#drop string"
   ]
  },
  {
   "cell_type": "code",
   "execution_count": null,
   "metadata": {},
   "outputs": [],
   "source": [
    "\"str\""
   ]
  },
  {
   "cell_type": "code",
   "execution_count": null,
   "metadata": {},
   "outputs": [],
   "source": [
    "a=\"a,b,c\"\n",
    "b='a,b,c'\n",
    "print(a,\"\\n\",b)"
   ]
  },
  {
   "cell_type": "code",
   "execution_count": null,
   "metadata": {},
   "outputs": [],
   "source": [
    "\"\"\"str\"\"\"\n",
    "#drop string\n"
   ]
  },
  {
   "source": [
    "# integer,float to string and string to integer,float type conversion"
   ],
   "cell_type": "markdown",
   "metadata": {}
  },
  {
   "cell_type": "code",
   "execution_count": null,
   "metadata": {},
   "outputs": [],
   "source": [
    "q='str'\n",
    "#sting type\n",
    "f=int(q)\n",
    "#string to int conversion not possible"
   ]
  },
  {
   "cell_type": "code",
   "execution_count": null,
   "metadata": {},
   "outputs": [],
   "source": [
    "p='1'\n",
    "#integer type string \n",
    "f=int(p)\n",
    "#integer type string to integer can be converted "
   ]
  },
  {
   "cell_type": "code",
   "execution_count": null,
   "metadata": {},
   "outputs": [],
   "source": [
    "s=\"fbhdbhgbd\"\n",
    "p='1.1010'\n",
    "#float type string\n",
    "d=float(p)\n",
    "#float type string to integer can be converted\n",
    "# a=float(s)\n",
    "# string to float  cannot be converted \n"
   ]
  },
  {
   "cell_type": "code",
   "execution_count": null,
   "metadata": {},
   "outputs": [],
   "source": []
  },
  {
   "source": [
    "# boolean operations"
   ],
   "cell_type": "markdown",
   "metadata": {}
  },
  {
   "cell_type": "code",
   "execution_count": null,
   "metadata": {},
   "outputs": [],
   "source": [
    "True+True \n",
    "#\n"
   ]
  },
  {
   "cell_type": "code",
   "execution_count": null,
   "metadata": {},
   "outputs": [],
   "source": [
    "False+False\n"
   ]
  },
  {
   "cell_type": "code",
   "execution_count": null,
   "metadata": {},
   "outputs": [],
   "source": [
    "False-True"
   ]
  },
  {
   "cell_type": "code",
   "execution_count": null,
   "metadata": {},
   "outputs": [],
   "source": [
    "*a"
   ]
  },
  {
   "cell_type": "code",
   "execution_count": null,
   "metadata": {},
   "outputs": [],
   "source": [
    "a=10\n",
    "#non zero variable \n",
    "b=0\n",
    "#zero variable\n",
    "print(bool(a),\"\\n\",bool(b))\n",
    "#bool return True for non-zero variable and False for zero variable "
   ]
  },
  {
   "source": [
    "# printing Hello multiple times "
   ],
   "cell_type": "markdown",
   "metadata": {}
  },
  {
   "cell_type": "code",
   "execution_count": null,
   "metadata": {},
   "outputs": [],
   "source": [
    "print(10*\"hello\\n\")\n",
    "#print hello 10 times "
   ]
  },
  {
   "source": [
    "# Control Statements "
   ],
   "cell_type": "markdown",
   "metadata": {}
  },
  {
   "cell_type": "code",
   "execution_count": null,
   "metadata": {},
   "outputs": [],
   "source": [
    "a=1\n",
    "b=2\n",
    "#intialized \n",
    "if a==b:\n",
    "#checks the value of b/w two variables\n",
    "    print(\"true\")\n",
    "elif a>b:\n",
    "    print(\"false\")\n",
    "else :\n",
    "    print(\"equal\")       "
   ]
  },
  {
   "source": [
    "## checking the no. is even or odd"
   ],
   "cell_type": "markdown",
   "metadata": {}
  },
  {
   "cell_type": "code",
   "execution_count": null,
   "metadata": {},
   "outputs": [],
   "source": [
    "c=int(input(\"Enter the value of no.\"))\n",
    "if a%2==0:\n",
    "    print(\"a is even \")\n",
    "else:\n",
    "    print(\"a is odd \")    "
   ]
  },
  {
   "source": [
    "# to check whether the desired food is in the Menu or not  "
   ],
   "cell_type": "markdown",
   "metadata": {}
  },
  {
   "cell_type": "code",
   "execution_count": null,
   "metadata": {},
   "outputs": [],
   "source": [
    "mains=['chicken','avaogado',\"breakfast sandwich\"]\n",
    "sides=['muffin','bacon']\n",
    "drinks=['coffee','fresh juice']\n",
    "prepared=['avaogado','coffee','fresh juice','muffin','bacon']\n",
    "ul=[]\n",
    "nl=[]\n",
    "print(\"The menu = \\n\",\"Mains\\n\",mains,\"\\nSides\\n\",sides,\"\\nDrinks\\n\",drinks)\n",
    "c=int(input(\"enter the type of menu \\n1.mains\\n2.sides\\n3.drinks\\n0 to end\\n\"))\n",
    "if c==1:\n",
    "    food=input(\"enter the food you desire\")\n",
    "    x=food.casefold()\n",
    "    if x in mains:\n",
    "        \n",
    "        if x in prepared: \n",
    "            ul.append(x)\n",
    "            print(\"Avaliable prepared food \",ul)\n",
    "        else:\n",
    "            nl.append(x)\n",
    "            print(\"unprepared food\",nl)\n",
    "    else:\n",
    "        print(\"not available\")    \n",
    "elif c==2:\n",
    "    food=input(\"enter the food you desire\")\n",
    "    x=food.casefold()\n",
    "    if x in sides:\n",
    "        if x in prepared:\n",
    "            ul.append(x)\n",
    "            print(\"Avaliable prepared food\",ul)\n",
    "        else:\n",
    "            nl.append(x)\n",
    "            print(\"unprepared food\",nl)\n",
    "\n",
    "    else:\n",
    "        print(\"not available\")    \n",
    "elif c==3:\n",
    "    food=input(\"enter the food you desire\")\n",
    "    x=food.casefold()\n",
    "    if food in mains:\n",
    "        if x in prepared: \n",
    "            ul.append(x)\n",
    "            print(\"Avaliable prepared food \",ul)\n",
    "        else:\n",
    "            nl.append(x)\n",
    "            print(\"unprepared food\",nl)\n",
    "    else:\n",
    "        print(\"not available\")    \n",
    "\n",
    "\n",
    "    \n"
   ]
  },
  {
   "source": [
    "# Day 3"
   ],
   "cell_type": "markdown",
   "metadata": {}
  },
  {
   "source": [
    "## append ,insert , slice operator"
   ],
   "cell_type": "markdown",
   "metadata": {}
  },
  {
   "source": [],
   "cell_type": "markdown",
   "metadata": {}
  },
  {
   "source": [
    "l=[]\n",
    "# creating a list\n",
    "l.append(\"a\")\n",
    "#append Function\n",
    "l.insert(2,\"b\")\n",
    "#insert Function\n",
    "print(l)\n",
    "x=slice(1)\n",
    "#slice funtion\n",
    "print(l[x])\n",
    "print(l[:1])\n",
    "#slice operator"
   ],
   "cell_type": "code",
   "metadata": {},
   "execution_count": null,
   "outputs": []
  },
  {
   "source": [
    "## mapping of Lists"
   ],
   "cell_type": "markdown",
   "metadata": {}
  },
  {
   "cell_type": "code",
   "execution_count": null,
   "metadata": {},
   "outputs": [],
   "source": [
    "list1=[\"1\",\"2\",\"3\",\"4\"]\n",
    "list2=[\"A\",\"B\",\"C\",\"D\"]\n",
    "l=zip(list1,list2)\n",
    "#zip function for merging two lists \n",
    "print(tuple(l))\n",
    "#print zip using tuple function\n",
    "[print(list1[i],list2[i]) for i in range(len(list1))]\n",
    "# using single print function\n",
    "a=list(map(lambda x  , y  :x+\" \"+y ,list1,list2))\n",
    "#map and lambda function 'does not support int and string concatenation' \n",
    "print(a)"
   ]
  },
  {
   "source": [
    "## take a list ,take an input from the user,  compare both the list  "
   ],
   "cell_type": "markdown",
   "metadata": {}
  },
  {
   "cell_type": "code",
   "execution_count": null,
   "metadata": {},
   "outputs": [],
   "source": [
    "l=['1','2','3','4','4','5']\n",
    "#taking an input list \n",
    "c=input(\"enter the list\")\n",
    "#taking a list from the user\n",
    "a=list(c)\n",
    "n=len(a)\n",
    "common=[]\n",
    "#list for common elements \n",
    "uncommon=[]\n",
    "#list for uncommon elements\n",
    "for i in range(0,n):\n",
    "    if a[i] in l:\n",
    "        common.append(a[i])\n",
    "    else:\n",
    "        uncommon.append(a[i])\n",
    "print(\"common--\",\"\\n\",\"uncommon--\",uncommon)            "
   ]
  },
  {
   "source": [
    "# Day 4"
   ],
   "cell_type": "markdown",
   "metadata": {}
  },
  {
   "source": [
    "# use of functions in python\n"
   ],
   "cell_type": "markdown",
   "metadata": {}
  },
  {
   "cell_type": "code",
   "execution_count": null,
   "metadata": {},
   "outputs": [],
   "source": [
    "a=10\n",
    "b=12\n",
    "add(a,b) \n",
    "def add(a,b):# defination of funtion \n",
    "    print(a*b)\n",
    " # using add function for any random static values"
   ]
  },
  {
   "source": [
    "# eval(),map(),strip(),find(),index(),comp(),split(),join(),extend() "
   ],
   "cell_type": "markdown",
   "metadata": {}
  },
  {
   "source": [
    "## input from user then type check then use eval function and then type check"
   ],
   "cell_type": "markdown",
   "metadata": {}
  },
  {
   "source": [
    "## eval()"
   ],
   "cell_type": "markdown",
   "metadata": {}
  },
  {
   "cell_type": "code",
   "execution_count": null,
   "metadata": {},
   "outputs": [],
   "source": [
    "a1=input(\"enter the value\")\n",
    "#return the same data string \n",
    "a=eval(input(\"enter the value\"))\n",
    "# used eval function changes the data type according to the input \n",
    "print(type(a1),type(a))"
   ]
  },
  {
   "source": [
    "## use of map() function"
   ],
   "cell_type": "markdown",
   "metadata": {}
  },
  {
   "cell_type": "code",
   "execution_count": null,
   "metadata": {},
   "outputs": [],
   "source": [
    "def func(a,b):\n",
    "    return pow(a,b)\n",
    "a=[1,2,3,4]\n",
    "# taking a list\n",
    "b=[3,3,3,3]\n",
    "# taking another list for \n",
    "c=list(map(func,a,b))\n",
    "print(c)\n"
   ]
  },
  {
   "source": [
    "## The strip() method removes any leading (spaces at the beginning) and trailing (spaces at the end) characters (space is the default leading character to remove)"
   ],
   "cell_type": "markdown",
   "metadata": {}
  },
  {
   "cell_type": "code",
   "execution_count": null,
   "metadata": {},
   "outputs": [],
   "source": [
    "b=\",,...,,,,.,HELLO>>>>\"\n",
    "x=b.strip(\",,,.>\")\n",
    "#use of strip function\n",
    "print(x)"
   ]
  },
  {
   "source": [
    "## Find & index function\n",
    "#### The find() method finds the first occurrence of the specified value. The find() method returns -1 if the value is not found\n",
    "#### The index() method finds the first occurrence of the specified value.The index() method raises an exception if the value is not found.The index() method is almost the same as the find() method, the only difference is that the find() method returns -1 if the value is not found."
   ],
   "cell_type": "markdown",
   "metadata": {}
  },
  {
   "cell_type": "code",
   "execution_count": null,
   "metadata": {},
   "outputs": [],
   "source": [
    "l=\"thr sdnsjd\"\n",
    "x=l.find(\"d\")\n",
    "#use of find function\n",
    "print(x)"
   ]
  },
  {
   "source": [
    "n=[1,3,4,5]\n",
    "print(n.index(3))\n",
    "#use of index function"
   ],
   "cell_type": "code",
   "metadata": {},
   "execution_count": null,
   "outputs": []
  },
  {
   "source": [
    "l1=[1,2,34]\n",
    "l2=[2,3,4]\n",
    "n=l1.extend(l2)\n",
    "#Extend function \n",
    "print(l1)"
   ],
   "cell_type": "code",
   "metadata": {},
   "execution_count": null,
   "outputs": []
  },
  {
   "source": [
    "### The reverse() method reverses the sorting order of the elements."
   ],
   "cell_type": "markdown",
   "metadata": {}
  },
  {
   "cell_type": "code",
   "execution_count": null,
   "metadata": {},
   "outputs": [],
   "source": [
    "n=[1,2,3,4]\n",
    "n.reverse()\n",
    "#use of reverse function \n",
    "print(n)"
   ]
  },
  {
   "cell_type": "code",
   "execution_count": null,
   "metadata": {},
   "outputs": [],
   "source": [
    "n=[1,2,3,4]\n",
    "n2=[2,3,4,5]\n",
    "cmp(n,n2)"
   ]
  },
  {
   "source": [
    "### The join() method takes all items in an iterable and joins them into one string."
   ],
   "cell_type": "markdown",
   "metadata": {}
  },
  {
   "cell_type": "code",
   "execution_count": null,
   "metadata": {},
   "outputs": [],
   "source": [
    "s={\"1\",\"2\"}\n",
    "a=\"#\".join(s)\n",
    "#join function\n",
    "print(a)"
   ]
  },
  {
   "source": [
    "### The split() method splits a string into a list.You can specify the separator, default separator is any whitespace."
   ],
   "cell_type": "markdown",
   "metadata": {}
  },
  {
   "cell_type": "code",
   "execution_count": null,
   "metadata": {},
   "outputs": [],
   "source": [
    "txt = \"welcome to the jungle\"\n",
    "x = txt.split()\n",
    "#use of split function\n",
    "print(x)"
   ]
  },
  {
   "source": [
    "# User Defined functions"
   ],
   "cell_type": "markdown",
   "metadata": {}
  },
  {
   "cell_type": "code",
   "execution_count": null,
   "metadata": {},
   "outputs": [],
   "source": [
    "def add(a,b):#function defination\n",
    "    print(\"addition \",a+b)\n",
    "def sub(a,b):#function defination\n",
    "    print(\"Substraction\",a-b)\n",
    "def mul(a,b):#function defination\n",
    "    print(\"multiplication\",a*b)\n",
    "def div(a,b):#function defination\n",
    "    print(\"division\",a/b)\n",
    "        \n",
    "a=int(input(\"Enter the value of a \"))\n",
    "b=int(input(\"Enter the value of b\"))    \n",
    "add(a,b)\n",
    "sub(a,b)\n",
    "mul(a,b)\n",
    "div(a,b)\n",
    "#function calling "
   ]
  },
  {
   "cell_type": "code",
   "execution_count": null,
   "metadata": {},
   "outputs": [],
   "source": [
    "def extend(l1,l2):\n",
    "    c=l1.extend(l2)\n",
    "    print(l1)\n",
    "l1=[1,2,34]\n",
    "l2=[2,3,4]\n",
    "\n",
    "extend(l1,l2)"
   ]
  },
  {
   "source": [
    "# default Arguments"
   ],
   "cell_type": "markdown",
   "metadata": {}
  },
  {
   "cell_type": "code",
   "execution_count": null,
   "metadata": {},
   "outputs": [],
   "source": [
    "def sg(str,str1=\"gg\"):#using defualt arguments \n",
    "    if str =='':\n",
    "        print(\"hello\",str1)\n",
    "    else:\n",
    "        print(\"hello\",str)\n",
    "str=input(\"enter the name \")\n",
    "sg(str)    "
   ]
  },
  {
   "source": [
    "## Decorators -A decorator takes in a function, adds some functionality and returns it.\n"
   ],
   "cell_type": "markdown",
   "metadata": {}
  },
  {
   "cell_type": "code",
   "execution_count": 3,
   "metadata": {},
   "outputs": [
    {
     "output_type": "stream",
     "name": "stdout",
     "text": [
      "hello Shivansh happy coding\n"
     ]
    }
   ],
   "source": [
    "def coding(name):\n",
    "    print(\"hello\",name,\"happy coding\")\n",
    "coding(\"Shivansh\")    "
   ]
  },
  {
   "cell_type": "code",
   "execution_count": 2,
   "metadata": {},
   "outputs": [
    {
     "output_type": "stream",
     "name": "stdout",
     "text": [
      "hello Shivansh happy coding\nabc\n"
     ]
    }
   ],
   "source": [
    "def func(abc):\n",
    "    def func1(name):\n",
    "        if name==\"pqr\":\n",
    "            print(\"abc\")\n",
    "        else:\n",
    "            abc(name)\n",
    "    return func1   \n",
    "@func\n",
    "def coding(name):\n",
    "    print(\"hello\",name,\"happy coding\")\n",
    "coding(\"Shivansh\")\n",
    "coding(\"pqr\")  \n",
    "  "
   ]
  },
  {
   "source": [
    "## web scraping \n",
    "## web crawling"
   ],
   "cell_type": "markdown",
   "metadata": {}
  },
  {
   "source": [
    "# Day 5 "
   ],
   "cell_type": "markdown",
   "metadata": {}
  },
  {
   "source": [
    "# Classes and other oops concepts "
   ],
   "cell_type": "markdown",
   "metadata": {}
  },
  {
   "source": [
    "# python program to deposit and withdraw money in a bank account "
   ],
   "cell_type": "markdown",
   "metadata": {}
  },
  {
   "cell_type": "code",
   "execution_count": null,
   "metadata": {},
   "outputs": [],
   "source": [
    "def deposit():\n",
    "    amount=int(input(\"Enetr the amount you want to desposited\\n\"))\n",
    "    print(\"\\namount deposited\\n\",amount)\n",
    "    \n",
    "def withdraw():\n",
    "    print(\"\\navaliable balance\\n\",balance)\n",
    "    amount=int(input(\"\\nenter the amount you want to withdraw\\n\"))\n",
    "    if amount<balance:\n",
    "        balance=balance - amount\n",
    "        print(\"\\navaliable balance after transaction \\n\",balance)\n",
    "    else:\n",
    "        print(\"\\ninsufficient balance\\n\")    \n",
    "\n",
    "global  a_balance =100\n",
    "c=2\n",
    "while(c!=0):\n",
    "    c=int(input(\"what transaction you want to perform,\\n press '1' for desposit \\n press '2' for withdraw\\npress '3' for checking available balance enter 0 to exit\"))\n",
    "    if c==1:\n",
    "        deposit() \n",
    "        balance =a_balance + amount \n",
    "    elif c==2:\n",
    "        withdraw() \n",
    "    elif c==3:\n",
    "        print(\"Available balance\\t-\\t\",balance) \n"
   ]
  }
 ]
}